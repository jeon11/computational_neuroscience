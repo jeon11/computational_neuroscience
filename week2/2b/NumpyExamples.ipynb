{
 "cells": [
  {
   "cell_type": "markdown",
   "metadata": {},
   "source": [
    "## some of numpy operations"
   ]
  },
  {
   "cell_type": "markdown",
   "metadata": {},
   "source": [
    "#### creating and reshaping numpy arrays"
   ]
  },
  {
   "cell_type": "code",
   "execution_count": 139,
   "metadata": {},
   "outputs": [
    {
     "name": "stdout",
     "output_type": "stream",
     "text": [
      "[[[1, 2, 3], [4, 5, 6]], [[7, 8, 9], [10, 11, 12]], [[13, 14, 15], [16, 17, 18]], [[19, 20, 21], [22, 23, 24]]]\n",
      "<class 'list'>\n"
     ]
    }
   ],
   "source": [
    "a = [[[ 1,  2,  3], [ 4,  5,  6]],\n",
    "     [[ 7,  8,  9], [10, 11, 12]],\n",
    "     [[13, 14, 15], [16, 17, 18]],\n",
    "     [[19, 20, 21], [22, 23, 24]]]\n",
    "\n",
    "print(a)\n",
    "\n",
    "print(type(a))\n",
    "# note that a is a Python list, not a numpy array"
   ]
  },
  {
   "cell_type": "code",
   "execution_count": 140,
   "metadata": {},
   "outputs": [
    {
     "name": "stdout",
     "output_type": "stream",
     "text": [
      "[[[ 1  2  3]\n",
      "  [ 4  5  6]]\n",
      "\n",
      " [[ 7  8  9]\n",
      "  [10 11 12]]\n",
      "\n",
      " [[13 14 15]\n",
      "  [16 17 18]]\n",
      "\n",
      " [[19 20 21]\n",
      "  [22 23 24]]]\n",
      "(4, 2, 3)\n",
      "<class 'numpy.ndarray'>\n",
      "\n",
      "[[[ 11  12  13]\n",
      "  [ 24  25  26]]\n",
      "\n",
      " [[ 17  18  19]\n",
      "  [210 211 212]]\n",
      "\n",
      " [[113 114 115]\n",
      "  [216 217 218]]\n",
      "\n",
      " [[119 120 121]\n",
      "  [222 223 224]]]\n",
      "(4, 2, 3)\n",
      "<class 'numpy.ndarray'>\n"
     ]
    }
   ],
   "source": [
    "import numpy as np\n",
    "\n",
    "# convert a list to a numpy array\n",
    "b = np.array(a)\n",
    "\n",
    "print(b)\n",
    "print(b.shape)\n",
    "print(type(b))\n",
    "print()\n",
    "\n",
    "# or directly like this from a list\n",
    "c = np.array([[[ 11,  12,  13], [ 24,  25,  26]],\n",
    "              [[ 17,  18,  19], [210, 211, 212]],\n",
    "              [[113, 114, 115], [216, 217, 218]],\n",
    "              [[119, 120, 121], [222, 223, 224]]])\n",
    "\n",
    "print(c)\n",
    "print(c.shape)\n",
    "print(type(c))"
   ]
  },
  {
   "cell_type": "code",
   "execution_count": 141,
   "metadata": {},
   "outputs": [
    {
     "name": "stdout",
     "output_type": "stream",
     "text": [
      "[[[ 1  2  3]\n",
      "  [ 4  5  6]]\n",
      "\n",
      " [[ 7  8  9]\n",
      "  [10 11 12]]\n",
      "\n",
      " [[13 14 15]\n",
      "  [16 17 18]]\n",
      "\n",
      " [[19 20 21]\n",
      "  [22 23 24]]]\n",
      "(4, 2, 3)\n",
      "\n",
      "[[ 1  2  3  4  5  6]\n",
      " [ 7  8  9 10 11 12]\n",
      " [13 14 15 16 17 18]\n",
      " [19 20 21 22 23 24]]\n",
      "(4, 6)\n"
     ]
    }
   ],
   "source": [
    "# reshape numpy arrays\n",
    "\n",
    "print(b)\n",
    "print(b.shape)\n",
    "print()\n",
    "\n",
    "sz1 = b.shape[1]\n",
    "sz2 = b.shape[2]\n",
    "\n",
    "d = b.reshape(b.shape[0],b.shape[1]*b.shape[2])\n",
    "print(d)\n",
    "print(d.shape)"
   ]
  },
  {
   "cell_type": "code",
   "execution_count": 142,
   "metadata": {},
   "outputs": [
    {
     "name": "stdout",
     "output_type": "stream",
     "text": [
      "(4, 6)\n",
      "(4, 2, 3)\n"
     ]
    }
   ],
   "source": [
    "# reshape back to the original dimensions\n",
    "\n",
    "print(d.shape)\n",
    "e = d.reshape(d.shape[0], sz1, sz2)\n",
    "print(e.shape)"
   ]
  },
  {
   "cell_type": "markdown",
   "metadata": {},
   "source": [
    "#### numpy math operations"
   ]
  },
  {
   "cell_type": "code",
   "execution_count": 143,
   "metadata": {},
   "outputs": [],
   "source": [
    "a = np.array([6, 4, 1, 3, 2, 5, 4, 4, 3, 1, 4, 6])\n",
    "b = np.array([2, 4, 1, 2, 1, 5, 2, 2, 3, 1, 4, 2])"
   ]
  },
  {
   "cell_type": "code",
   "execution_count": 144,
   "metadata": {},
   "outputs": [
    {
     "name": "stdout",
     "output_type": "stream",
     "text": [
      "[7 5 2 4 3 6 5 5 4 2 5 7]\n",
      "[ 8  8  2  5  3 10  6  6  6  2  8  8]\n",
      "[12 16  1  6  2 25  8  8  9  1 16 12]\n",
      "[3.  1.  1.  1.5 2.  1.  2.  2.  1.  1.  1.  3. ]\n",
      "116\n"
     ]
    }
   ],
   "source": [
    "# add constant to elements of a numpy array\n",
    "print(a+1)\n",
    "\n",
    "# add two numpy arrays of the same length\n",
    "print(a+b)\n",
    "\n",
    "# element-wise multiplication of two numpy arrays\n",
    "print(a*b)\n",
    "\n",
    "# element-wise division of two numpy arrays\n",
    "print(a/b)\n",
    "\n",
    "# dot product of two numpy arrays\n",
    "print(np.dot(a, b))"
   ]
  },
  {
   "cell_type": "markdown",
   "metadata": {},
   "source": [
    "#### finding values in a numpy array"
   ]
  },
  {
   "cell_type": "code",
   "execution_count": 146,
   "metadata": {},
   "outputs": [
    {
     "name": "stdout",
     "output_type": "stream",
     "text": [
      "[6 4 1 3 2 5 4 4 3 1 4 6]\n",
      "[ 1  6  7 10]\n"
     ]
    }
   ],
   "source": [
    "print(a)\n",
    "\n",
    "# get all the indices of a where a[i] = 4\n",
    "idx = np.where(a==4)[0]\n",
    "print(idx)"
   ]
  },
  {
   "cell_type": "code",
   "execution_count": 147,
   "metadata": {},
   "outputs": [
    {
     "name": "stdout",
     "output_type": "stream",
     "text": [
      "[False  True False False False False  True  True False False  True False]\n",
      "(array([ 1,  6,  7, 10]),)\n",
      "<class 'tuple'>\n",
      "1\n",
      "[ 1  6  7 10]\n",
      "[ 1  6  7 10]\n"
     ]
    }
   ],
   "source": [
    "# let's unpack the pieces of this\n",
    "\n",
    "x = (a==4)\n",
    "print(x)\n",
    "# you can see that this operation creates an array of Booleans\n",
    "\n",
    "y = np.where(x)\n",
    "print(y)\n",
    "# where returns the indices with True values - a numpy equivalent of the find() commaand in Matlab\n",
    "\n",
    "# but notice that y is actually a tuple of length 1, not actually an array of indices\n",
    "print(type(y))\n",
    "print(len(y))\n",
    "\n",
    "# therefore, we address the first index of the tuple\n",
    "z = y[0]\n",
    "print(z)\n",
    "\n",
    "# this is the same as what we started with\n",
    "idx = np.where(a==4)[0]\n",
    "print(idx)"
   ]
  },
  {
   "cell_type": "markdown",
   "metadata": {},
   "source": [
    "#### Boolean operations on numpy arrays"
   ]
  },
  {
   "cell_type": "code",
   "execution_count": 148,
   "metadata": {},
   "outputs": [
    {
     "name": "stdout",
     "output_type": "stream",
     "text": [
      "[6 4 1 3 2 5 4 4 3 1 4 6]\n",
      "[2 4 1 2 1 5 2 2 3 1 4 2]\n"
     ]
    }
   ],
   "source": [
    "print(a)\n",
    "print(b)"
   ]
  },
  {
   "cell_type": "code",
   "execution_count": 149,
   "metadata": {},
   "outputs": [
    {
     "name": "stdout",
     "output_type": "stream",
     "text": [
      "[ 1  6  7 10]\n"
     ]
    }
   ],
   "source": [
    "# imagine we want to find indices that satisfy two sets of constraints\n",
    "\n",
    "# for example, first, the indices of a whereby a[i] == 4\n",
    "idx1 = np.where(a==4)[0]\n",
    "print(idx1)"
   ]
  },
  {
   "cell_type": "code",
   "execution_count": 150,
   "metadata": {},
   "outputs": [
    {
     "name": "stdout",
     "output_type": "stream",
     "text": [
      "[ 1  2  5  8  9 10]\n"
     ]
    }
   ],
   "source": [
    "# and, second, the indices of a whereby a[i] == b[i]\n",
    "idx2 = np.where(a==b)[0]\n",
    "print(idx2)"
   ]
  },
  {
   "cell_type": "code",
   "execution_count": 151,
   "metadata": {},
   "outputs": [
    {
     "ename": "ValueError",
     "evalue": "The truth value of an array with more than one element is ambiguous. Use a.any() or a.all()",
     "output_type": "error",
     "traceback": [
      "\u001b[0;31m---------------------------------------------------------------------------\u001b[0m",
      "\u001b[0;31mValueError\u001b[0m                                Traceback (most recent call last)",
      "\u001b[0;32m<ipython-input-151-e3d8a4bf20df>\u001b[0m in \u001b[0;36m<module>\u001b[0;34m()\u001b[0m\n\u001b[1;32m      1\u001b[0m \u001b[0;31m# what if we want the indices where both of these are true\u001b[0m\u001b[0;34m\u001b[0m\u001b[0;34m\u001b[0m\u001b[0;34m\u001b[0m\u001b[0m\n\u001b[0;32m----> 2\u001b[0;31m \u001b[0midx3\u001b[0m \u001b[0;34m=\u001b[0m \u001b[0mnp\u001b[0m\u001b[0;34m.\u001b[0m\u001b[0mwhere\u001b[0m\u001b[0;34m(\u001b[0m\u001b[0;34m(\u001b[0m\u001b[0ma\u001b[0m\u001b[0;34m==\u001b[0m\u001b[0;36m4\u001b[0m\u001b[0;34m)\u001b[0m \u001b[0;32mand\u001b[0m \u001b[0;34m(\u001b[0m\u001b[0ma\u001b[0m\u001b[0;34m==\u001b[0m\u001b[0mb\u001b[0m\u001b[0;34m)\u001b[0m\u001b[0;34m)\u001b[0m\u001b[0;34m[\u001b[0m\u001b[0;36m0\u001b[0m\u001b[0;34m]\u001b[0m\u001b[0;34m\u001b[0m\u001b[0;34m\u001b[0m\u001b[0m\n\u001b[0m",
      "\u001b[0;31mValueError\u001b[0m: The truth value of an array with more than one element is ambiguous. Use a.any() or a.all()"
     ]
    }
   ],
   "source": [
    "# what if we want the indices where both of these are true\n",
    "idx3 = np.where((a==4) and (a==b))[0]"
   ]
  },
  {
   "cell_type": "code",
   "execution_count": 152,
   "metadata": {},
   "outputs": [
    {
     "name": "stdout",
     "output_type": "stream",
     "text": [
      "False\n"
     ]
    }
   ],
   "source": [
    "# while you can do this\n",
    "print(True and False)"
   ]
  },
  {
   "cell_type": "code",
   "execution_count": 153,
   "metadata": {},
   "outputs": [
    {
     "name": "stdout",
     "output_type": "stream",
     "text": [
      "[True, True]\n"
     ]
    }
   ],
   "source": [
    "# and you can do this\n",
    "print([True, False] and [True, True])"
   ]
  },
  {
   "cell_type": "code",
   "execution_count": 154,
   "metadata": {},
   "outputs": [
    {
     "ename": "ValueError",
     "evalue": "The truth value of an array with more than one element is ambiguous. Use a.any() or a.all()",
     "output_type": "error",
     "traceback": [
      "\u001b[0;31m---------------------------------------------------------------------------\u001b[0m",
      "\u001b[0;31mValueError\u001b[0m                                Traceback (most recent call last)",
      "\u001b[0;32m<ipython-input-154-aa83229c4bfb>\u001b[0m in \u001b[0;36m<module>\u001b[0;34m()\u001b[0m\n\u001b[1;32m      1\u001b[0m \u001b[0;31m# you cannot do this\u001b[0m\u001b[0;34m\u001b[0m\u001b[0;34m\u001b[0m\u001b[0;34m\u001b[0m\u001b[0m\n\u001b[0;32m----> 2\u001b[0;31m \u001b[0mprint\u001b[0m\u001b[0;34m(\u001b[0m\u001b[0mnp\u001b[0m\u001b[0;34m.\u001b[0m\u001b[0marray\u001b[0m\u001b[0;34m(\u001b[0m\u001b[0;34m[\u001b[0m\u001b[0;32mTrue\u001b[0m\u001b[0;34m,\u001b[0m \u001b[0;32mFalse\u001b[0m\u001b[0;34m]\u001b[0m\u001b[0;34m)\u001b[0m \u001b[0;32mand\u001b[0m \u001b[0mnp\u001b[0m\u001b[0;34m.\u001b[0m\u001b[0marray\u001b[0m\u001b[0;34m(\u001b[0m\u001b[0;34m[\u001b[0m\u001b[0;32mTrue\u001b[0m\u001b[0;34m,\u001b[0m \u001b[0;32mTrue\u001b[0m\u001b[0;34m]\u001b[0m\u001b[0;34m)\u001b[0m\u001b[0;34m)\u001b[0m\u001b[0;34m\u001b[0m\u001b[0;34m\u001b[0m\u001b[0m\n\u001b[0m",
      "\u001b[0;31mValueError\u001b[0m: The truth value of an array with more than one element is ambiguous. Use a.any() or a.all()"
     ]
    }
   ],
   "source": [
    "# you cannot do this\n",
    "print(np.array([True, False]) and np.array([True, True]))"
   ]
  },
  {
   "cell_type": "code",
   "execution_count": 155,
   "metadata": {},
   "outputs": [
    {
     "name": "stdout",
     "output_type": "stream",
     "text": [
      "[False  True False False False False  True  True False False  True False]\n",
      "<class 'numpy.ndarray'>\n"
     ]
    }
   ],
   "source": [
    "# the problem is that expressions like a==4 returns a numpy array\n",
    "print(a==4)\n",
    "print(type(a==4))"
   ]
  },
  {
   "cell_type": "code",
   "execution_count": 156,
   "metadata": {},
   "outputs": [
    {
     "name": "stdout",
     "output_type": "stream",
     "text": [
      "[ True False]\n"
     ]
    }
   ],
   "source": [
    "# you can do and with numpy arrays this way (technically, & is a bitwise operator)\n",
    "print(np.array([True, False]) & np.array([True, True]))"
   ]
  },
  {
   "cell_type": "code",
   "execution_count": 157,
   "metadata": {},
   "outputs": [
    {
     "name": "stdout",
     "output_type": "stream",
     "text": [
      "[ True False]\n"
     ]
    }
   ],
   "source": [
    "# or this way\n",
    "print(np.logical_and(np.array([True, False]), np.array([True, True])))"
   ]
  },
  {
   "cell_type": "code",
   "execution_count": 158,
   "metadata": {},
   "outputs": [
    {
     "name": "stdout",
     "output_type": "stream",
     "text": [
      "[ True  True]\n",
      "[ True  True]\n"
     ]
    }
   ],
   "source": [
    "# you can also do logical or these ways\n",
    "print(np.array([True, False]) | np.array([True, True]))\n",
    "print(np.logical_or(np.array([True, False]), np.array([True, True])))"
   ]
  },
  {
   "cell_type": "code",
   "execution_count": 159,
   "metadata": {},
   "outputs": [
    {
     "name": "stdout",
     "output_type": "stream",
     "text": [
      "[ 1 10]\n",
      "[ 1 10]\n"
     ]
    }
   ],
   "source": [
    "# so getting back to our original problem, you can do it these two ways\n",
    "idx3 = np.where((a==4) & (a==b))[0]\n",
    "print(idx3)\n",
    "idx4 = np.where(np.logical_and((a==4), (a==b)))[0]\n",
    "print(idx4)"
   ]
  },
  {
   "cell_type": "markdown",
   "metadata": {},
   "source": [
    "#### other operations on numpy arrays"
   ]
  },
  {
   "cell_type": "code",
   "execution_count": 160,
   "metadata": {},
   "outputs": [
    {
     "name": "stdout",
     "output_type": "stream",
     "text": [
      "[0.453, 0.234, 0.235, 0.843, 0.523, 0.223, 0.513, 0.423, 0.284, 0.224]\n",
      "3\n",
      "0.843\n",
      "\n",
      "[0.453, 0.234, 0.235, 0.843, 0.523, 0.223, 0.513, 0.423, 0.284, 0.224]\n",
      "5\n",
      "0.223\n"
     ]
    }
   ],
   "source": [
    "c = [0.453, 0.234, 0.235, 0.843, 0.523, 0.223, 0.513, 0.423, 0.284, 0.224]\n",
    "\n",
    "# get the indices of the maximum values of a numpy array\n",
    "idx = np.argmax(c)\n",
    "print(c)\n",
    "print(idx)\n",
    "print(c[idx])\n",
    "print()\n",
    "\n",
    "# get the indices of the maximum values of a numpy array\n",
    "idx = np.argmin(c)\n",
    "print(c)\n",
    "print(idx)\n",
    "print(c[idx])"
   ]
  },
  {
   "cell_type": "code",
   "execution_count": null,
   "metadata": {},
   "outputs": [],
   "source": []
  }
 ],
 "metadata": {
  "kernelspec": {
   "display_name": "Python 3",
   "language": "python",
   "name": "python3"
  },
  "language_info": {
   "codemirror_mode": {
    "name": "ipython",
    "version": 3
   },
   "file_extension": ".py",
   "mimetype": "text/x-python",
   "name": "python",
   "nbconvert_exporter": "python",
   "pygments_lexer": "ipython3",
   "version": "3.6.7"
  }
 },
 "nbformat": 4,
 "nbformat_minor": 2
}
