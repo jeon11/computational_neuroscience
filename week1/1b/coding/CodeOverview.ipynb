{
 "cells": [
  {
   "cell_type": "code",
   "execution_count": 1,
   "metadata": {},
   "outputs": [
    {
     "name": "stdout",
     "output_type": "stream",
     "text": [
      "Hello!\n"
     ]
    }
   ],
   "source": [
    "print('Hello!')"
   ]
  },
  {
   "cell_type": "markdown",
   "metadata": {},
   "source": [
    "Here are some examples of python relational operators in action.  Relational operators produce an output with type 'bool', or the numpy equivalent 'numpy.bool_'"
   ]
  },
  {
   "cell_type": "code",
   "execution_count": 2,
   "metadata": {},
   "outputs": [
    {
     "name": "stdout",
     "output_type": "stream",
     "text": [
      "False\n",
      "True\n",
      "<class 'bool'>\n",
      "<class 'numpy.bool_'>\n",
      "True\n",
      "False\n",
      "False\n",
      "True\n"
     ]
    }
   ],
   "source": [
    "import numpy as np\n",
    "x=5\n",
    "y=6\n",
    "\n",
    "print(x==y) # line 1\n",
    "print(x!=y) # line 2\n",
    "\n",
    "val = x==y\n",
    "print(type(val)) # line 3\n",
    "\n",
    "val = np.equal(x,y) # this is equivalent to == but uses a function call \n",
    "print(type(val)) # line 4\n",
    "\n",
    "val = x < y\n",
    "print(val)  # line 5\n",
    "val = x > y\n",
    "print(val)  # line 6\n",
    "val = x >= y\n",
    "print(val)  # line 7\n",
    "val = x <= y\n",
    "print(val)  # line 8"
   ]
  },
  {
   "cell_type": "markdown",
   "metadata": {},
   "source": [
    "Some examples of working with logical operators.  Note that python is picky about how you write 'True' and 'False'.  It won't recognize 'true' or 'TRUE', just 'True'."
   ]
  },
  {
   "cell_type": "code",
   "execution_count": 3,
   "metadata": {},
   "outputs": [
    {
     "name": "stdout",
     "output_type": "stream",
     "text": [
      "False\n",
      "True\n",
      "True\n"
     ]
    }
   ],
   "source": [
    "x = True\n",
    "y = False\n",
    "val = x and y\n",
    "print(val)\n",
    "val = x or y\n",
    "print(val)\n",
    "val = not y\n",
    "print(val)"
   ]
  },
  {
   "cell_type": "markdown",
   "metadata": {},
   "source": [
    "Here's an example of a vectorized logical operation.  Both x and y are lists of truth values.  The 'and' operator is applied to each corresponding pair of elements across the two lists."
   ]
  },
  {
   "cell_type": "code",
   "execution_count": 4,
   "metadata": {},
   "outputs": [
    {
     "name": "stdout",
     "output_type": "stream",
     "text": [
      "[True, False, False]\n"
     ]
    }
   ],
   "source": [
    "x = [True, True, False]\n",
    "y = [True, False, False]\n",
    "val = x and y\n",
    "print(val)"
   ]
  },
  {
   "cell_type": "markdown",
   "metadata": {},
   "source": [
    "## Arrays\n",
    "\n",
    "We will mostly be working with numpy arrays, not lists.  Lists are more flexible, in that there aren't as many constraints as what can be an element of a list.  But the mathematical operations that we will be using to simulate neural networks require the array type to be used."
   ]
  },
  {
   "cell_type": "code",
   "execution_count": 8,
   "metadata": {},
   "outputs": [
    {
     "name": "stdout",
     "output_type": "stream",
     "text": [
      "<class 'list'> <class 'list'> <class 'int'> <class 'str'>\n",
      "\n",
      "\n",
      "<class 'numpy.ndarray'> <class 'numpy.int64'>\n",
      "[[0. 0. 0. 0. 0. 0. 0. 0. 0. 0.]] \n",
      "\n",
      "[[0.]\n",
      " [0.]\n",
      " [0.]\n",
      " [0.]\n",
      " [0.]\n",
      " [0.]\n",
      " [0.]\n",
      " [0.]\n",
      " [0.]\n",
      " [0.]]\n",
      "<class 'tuple'>\n"
     ]
    }
   ],
   "source": [
    "import numpy as np\n",
    "\n",
    "x1 = [8, 1, 4, 2, 3, 1] # this creates a 'list'\n",
    "x2 = [8, 'hi']\n",
    "print(type(x1), type(x2), type(x2[0]), type(x2[1]))\n",
    "print('\\n')\n",
    "\n",
    "# these create arrays\n",
    "x3 = np.array([8, 1, 4, 2, 3, 1])\n",
    "x4 = np.zeros((1,10)) # a vector with one row, 10 columns\n",
    "x5 = np.zeros((10,1)) # a vector with 10 rows, 1 column\n",
    "print(type(x3),type(x3[0]))\n",
    "print(x4,'\\n')\n",
    "print(x5)\n",
    "\n",
    "print(type((1,1)))"
   ]
  },
  {
   "cell_type": "code",
   "execution_count": 9,
   "metadata": {},
   "outputs": [
    {
     "name": "stdout",
     "output_type": "stream",
     "text": [
      "[0 1 2 3 4 5 6 7 8 9] [ 6  4  2 10  8] \n",
      "\n",
      "(10,) 10\n",
      "(5,) 5\n",
      "0\n",
      "6\n"
     ]
    }
   ],
   "source": [
    "import numpy as np\n",
    "\n",
    "x1 = np.array(range(10))\n",
    "x2 = np.array([6, 4, 2, 10, 8])\n",
    "print(x1,x2,'\\n')\n",
    "\n",
    "# the shape notation with a vector\n",
    "# basically this says the vector only has one dimension\n",
    "# it is also possible to create an array with shape (10,1)\n",
    "# which in certain scenarios behaves identically to (10,) but is \n",
    "# treated differently in other scenarios\n",
    "print(x1.shape, x1.shape[0]) # (10,)\n",
    "print(x2.shape, x2.shape[0]) # (5,)\n",
    "\n",
    "# access the first element\n",
    "print(x1[0])\n",
    "print(x2[0])"
   ]
  },
  {
   "cell_type": "code",
   "execution_count": 10,
   "metadata": {},
   "outputs": [
    {
     "name": "stdout",
     "output_type": "stream",
     "text": [
      "[0 1 2 3 4 5 6 7 8 9] [ 6  4  2 10  8] \n",
      "\n",
      "SLICES:\n",
      "[0 1 2]\n",
      "[ 6  4  2 10]\n",
      "[ 2 10  8]\n",
      "[2 3 4]\n",
      "[4 2]\n"
     ]
    }
   ],
   "source": [
    "# have to run the previous cell before running this and the next few\n",
    "print(x1,x2,'\\n')\n",
    "\n",
    "print('SLICES:')\n",
    "print(x1[:3])\n",
    "print(x2[:4])\n",
    "print(x2[2:])\n",
    "print(x1[2:5])\n",
    "print(x2[1:3])\n"
   ]
  },
  {
   "cell_type": "code",
   "execution_count": 11,
   "metadata": {},
   "outputs": [
    {
     "name": "stdout",
     "output_type": "stream",
     "text": [
      "[ 6  4  2 10  8] \n",
      "\n",
      "INDEXING:\n",
      "[ 2  4  6  8 10]\n",
      "[2 2 2 6 6]\n",
      "[ 2  4  6  8 10]\n"
     ]
    }
   ],
   "source": [
    "print(x2,'\\n')\n",
    "print('INDEXING:')\n",
    "print(x2[[2,1,0,4,3]])\n",
    "print(x2[[2,2,2,0,0]])\n",
    "\n",
    "inds = [2,1,0,4,3]\n",
    "print(x2[inds])"
   ]
  },
  {
   "cell_type": "code",
   "execution_count": 12,
   "metadata": {},
   "outputs": [
    {
     "name": "stdout",
     "output_type": "stream",
     "text": [
      "[0 1 2 3 4 5 6 7 8 9]\n",
      "[58 59 60  3  4  5  6  7  8  9]\n"
     ]
    }
   ],
   "source": [
    "x1 = np.array((range(10)))\n",
    "x2 = np.array([58,59,60])\n",
    "print(x1)\n",
    "x1[:3] = x2\n",
    "print(x1)"
   ]
  },
  {
   "cell_type": "code",
   "execution_count": 14,
   "metadata": {},
   "outputs": [
    {
     "name": "stdout",
     "output_type": "stream",
     "text": [
      "[0 1 2 3 4 5 6 7 8 9]\n"
     ]
    },
    {
     "ename": "ValueError",
     "evalue": "could not broadcast input array from shape (3) into shape (2)",
     "output_type": "error",
     "traceback": [
      "\u001b[0;31m---------------------------------------------------------------------------\u001b[0m",
      "\u001b[0;31mValueError\u001b[0m                                Traceback (most recent call last)",
      "\u001b[0;32m<ipython-input-14-ae5839890230>\u001b[0m in \u001b[0;36m<module>\u001b[0;34m\u001b[0m\n\u001b[1;32m      2\u001b[0m \u001b[0mx2\u001b[0m \u001b[0;34m=\u001b[0m \u001b[0mnp\u001b[0m\u001b[0;34m.\u001b[0m\u001b[0marray\u001b[0m\u001b[0;34m(\u001b[0m\u001b[0;34m[\u001b[0m\u001b[0;36m58\u001b[0m\u001b[0;34m,\u001b[0m\u001b[0;36m59\u001b[0m\u001b[0;34m,\u001b[0m\u001b[0;36m60\u001b[0m\u001b[0;34m]\u001b[0m\u001b[0;34m)\u001b[0m\u001b[0;34m\u001b[0m\u001b[0m\n\u001b[1;32m      3\u001b[0m \u001b[0mprint\u001b[0m\u001b[0;34m(\u001b[0m\u001b[0mx1\u001b[0m\u001b[0;34m)\u001b[0m\u001b[0;34m\u001b[0m\u001b[0m\n\u001b[0;32m----> 4\u001b[0;31m \u001b[0mx1\u001b[0m\u001b[0;34m[\u001b[0m\u001b[0;36m3\u001b[0m\u001b[0;34m:\u001b[0m\u001b[0;36m5\u001b[0m\u001b[0;34m]\u001b[0m \u001b[0;34m=\u001b[0m \u001b[0mx2\u001b[0m\u001b[0;34m\u001b[0m\u001b[0m\n\u001b[0m\u001b[1;32m      5\u001b[0m \u001b[0mprint\u001b[0m\u001b[0;34m(\u001b[0m\u001b[0mx1\u001b[0m\u001b[0;34m)\u001b[0m\u001b[0;34m\u001b[0m\u001b[0m\n",
      "\u001b[0;31mValueError\u001b[0m: could not broadcast input array from shape (3) into shape (2)"
     ]
    }
   ],
   "source": [
    "x1 = np.array((range(10)))\n",
    "x2 = np.array([58,59,60])\n",
    "print(x1)\n",
    "x1[3:5] = x2\n",
    "print(x1)"
   ]
  },
  {
   "cell_type": "code",
   "execution_count": 13,
   "metadata": {},
   "outputs": [
    {
     "name": "stdout",
     "output_type": "stream",
     "text": [
      "[0 1 2 3 4 5 6 7 8 9]\n",
      "[ 0  1  2 58 59 60  6  7  8  9]\n"
     ]
    }
   ],
   "source": [
    "x1 = np.array((range(10)))\n",
    "x2 = np.array([58,59,60])\n",
    "print(x1)\n",
    "x1[3:6] = x2\n",
    "print(x1)"
   ]
  },
  {
   "cell_type": "markdown",
   "metadata": {},
   "source": [
    "Here is a simple example of vectorized multiplication and division.  Unlike in Matlab, you don't use the .* and ./ notation."
   ]
  },
  {
   "cell_type": "code",
   "execution_count": 15,
   "metadata": {},
   "outputs": [
    {
     "name": "stdout",
     "output_type": "stream",
     "text": [
      "[ 5 10 15] \n",
      "\n",
      "[0.5 1.  1.5]\n"
     ]
    }
   ],
   "source": [
    "x = np.array([1,2,3])\n",
    "print(x*5,'\\n')\n",
    "print(x/2)"
   ]
  },
  {
   "cell_type": "markdown",
   "metadata": {},
   "source": [
    "## Control flow\n",
    "\n",
    "Here's the basic format of if statements"
   ]
  },
  {
   "cell_type": "code",
   "execution_count": 16,
   "metadata": {},
   "outputs": [
    {
     "name": "stdout",
     "output_type": "stream",
     "text": [
      "they are not equal!\n",
      "x is not equal to anything, sigh\n",
      "I will always be printed\n"
     ]
    }
   ],
   "source": [
    "x=5\n",
    "y=6\n",
    "z=6\n",
    "\n",
    "if x==y:\n",
    "    print('they are equal!')\n",
    "else:\n",
    "    print('they are not equal!')\n",
    "\n",
    "if x==y:\n",
    "    print('x and y are equal')\n",
    "elif x==z:\n",
    "    print('well at least x and z are equal')\n",
    "else:\n",
    "    print('x is not equal to anything, sigh')\n",
    "    \n",
    "if True:\n",
    "    print('I will always be printed')\n",
    "else:\n",
    "    print('I will never be executed')"
   ]
  },
  {
   "cell_type": "markdown",
   "metadata": {},
   "source": [
    "## For loops\n",
    "The workhorse of programming.  Run the enclosed code for each element in a list.  The first term is the index variable you’ll use, then 'in', then you provide the list to iterate over.\n"
   ]
  },
  {
   "cell_type": "code",
   "execution_count": 17,
   "metadata": {},
   "outputs": [
    {
     "name": "stdout",
     "output_type": "stream",
     "text": [
      "10\n"
     ]
    }
   ],
   "source": [
    "count = 0\n",
    "for i in range(5):\n",
    "    count = count + i\n",
    "print(count)\n",
    "    \n",
    "for i in range(5):\n",
    "    count += i\n"
   ]
  },
  {
   "cell_type": "markdown",
   "metadata": {},
   "source": [
    "## Nested for loops\n",
    "### How many stars will print?"
   ]
  },
  {
   "cell_type": "code",
   "execution_count": 18,
   "metadata": {},
   "outputs": [
    {
     "name": "stdout",
     "output_type": "stream",
     "text": [
      "********"
     ]
    }
   ],
   "source": [
    "for i in range(4):\n",
    "    for j in range(2,5):\n",
    "        if j==3 or j==4:\n",
    "            print('*', end='')\n"
   ]
  },
  {
   "cell_type": "markdown",
   "metadata": {},
   "source": [
    "## While loops\n",
    "A while loop will just keep looping as long as the condition is true"
   ]
  },
  {
   "cell_type": "code",
   "execution_count": 19,
   "metadata": {},
   "outputs": [
    {
     "name": "stdout",
     "output_type": "stream",
     "text": [
      "False 101\n",
      "101\n"
     ]
    }
   ],
   "source": [
    "count = 0\n",
    "flag = True\n",
    "while flag:\n",
    "   count = count + 1\n",
    "   if count > 100:\n",
    "      flag = False\n",
    "print(flag, count)\n",
    "\n",
    "# alternative way to do a while loop\n",
    "count = 0\n",
    "while True:\n",
    "   count = count + 1\n",
    "   if count > 100:\n",
    "      break\n",
    "print(count)"
   ]
  },
  {
   "cell_type": "markdown",
   "metadata": {},
   "source": [
    "## Matrices"
   ]
  },
  {
   "cell_type": "code",
   "execution_count": 20,
   "metadata": {},
   "outputs": [
    {
     "name": "stdout",
     "output_type": "stream",
     "text": [
      "(3, 3) 3\n",
      "[[1 2 3]\n",
      " [4 5 6]\n",
      " [7 8 9]] \n",
      "\n",
      "9\n",
      "[4 5 6]\n",
      "[2 5 8]\n",
      "[[1 2]\n",
      " [4 5]]\n"
     ]
    }
   ],
   "source": [
    "import numpy as np\n",
    "\n",
    "x1=np.array([[1,2,3],[4,5,6],[7,8,9]])\n",
    "print(x1.shape,x1.shape[0])\n",
    "print(x1,'\\n')\n",
    "\n",
    "print(x1[2,2])\n",
    "print(x1[1,:])\n",
    "print(x1[:,1])\n",
    "print(x1[0:2,0:2])"
   ]
  },
  {
   "cell_type": "markdown",
   "metadata": {},
   "source": [
    "Logical operators work on vectors and matrices, and can be used to create masks"
   ]
  },
  {
   "cell_type": "code",
   "execution_count": 21,
   "metadata": {},
   "outputs": [
    {
     "name": "stdout",
     "output_type": "stream",
     "text": [
      "[[False False False]\n",
      " [False  True  True]\n",
      " [ True  True  True]]\n"
     ]
    }
   ],
   "source": [
    "x1=np.array([[1,2,3],[4,5,6],[7,8,9]])\n",
    "print(x1 >= 5)\n"
   ]
  },
  {
   "cell_type": "code",
   "execution_count": 22,
   "metadata": {},
   "outputs": [
    {
     "name": "stdout",
     "output_type": "stream",
     "text": [
      "[5 6 7 8 9]\n"
     ]
    }
   ],
   "source": [
    "print(x1[x1 >= 5])"
   ]
  },
  {
   "cell_type": "markdown",
   "metadata": {},
   "source": [
    "## Random numbers\n",
    "We use random numbers all the time in scientific computing / computational neuroscience.  Here are some examples of useful functions.  Many more are described at: https://docs.scipy.org/doc/numpy-1.15.1/reference/routines.random.html"
   ]
  },
  {
   "cell_type": "code",
   "execution_count": 23,
   "metadata": {},
   "outputs": [
    {
     "name": "stdout",
     "output_type": "stream",
     "text": [
      "0.3230825420354766 0.268727522699004\n",
      "2.297344402470488 -0.3953697838128485\n",
      "5\n",
      "[[2 3 1]\n",
      " [6 1 9]\n",
      " [8 2 3]]\n",
      "[6 5 2 8 4 7 3 1 9 0]\n",
      "\n",
      " 0.1915194503788923 0.6221087710398319\n",
      "\n",
      " 0.1915194503788923 0.6221087710398319\n"
     ]
    }
   ],
   "source": [
    "import numpy as np\n",
    "import numpy.random as r\n",
    "\n",
    "# uniform distribution from [0 to 1)\n",
    "print(r.rand(), r.rand())\n",
    "# normal distribution with specified parameters vs standard unit normal\n",
    "print(r.normal(5,3), r.randn())\n",
    "# random integer from this range, exclusive of top \n",
    "print(r.randint(1,10))\n",
    "# third argument is the shape of the array to be filled with random integers\n",
    "print(r.randint(1,10,(3,3)))\n",
    "# permute the order of a sequence/array\n",
    "print(r.permutation(np.array(range(10))))\n",
    "\n",
    "r.seed(1234)\n",
    "print('\\n',r.rand(), r.rand())\n",
    "\n",
    "r.seed(1234)\n",
    "print('\\n',r.rand(), r.rand())\n"
   ]
  },
  {
   "cell_type": "markdown",
   "metadata": {},
   "source": [
    "## Open up WingIDE and show some plotting code!"
   ]
  },
  {
   "cell_type": "code",
   "execution_count": null,
   "metadata": {},
   "outputs": [],
   "source": []
  }
 ],
 "metadata": {
  "kernelspec": {
   "display_name": "Python 3",
   "language": "python",
   "name": "python3"
  },
  "language_info": {
   "codemirror_mode": {
    "name": "ipython",
    "version": 3
   },
   "file_extension": ".py",
   "mimetype": "text/x-python",
   "name": "python",
   "nbconvert_exporter": "python",
   "pygments_lexer": "ipython3",
   "version": "3.6.6"
  }
 },
 "nbformat": 4,
 "nbformat_minor": 2
}
